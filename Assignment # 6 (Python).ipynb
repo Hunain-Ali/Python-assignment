{
 "cells": [
  {
   "cell_type": "markdown",
   "metadata": {},
   "source": [
    "# Question 1"
   ]
  },
  {
   "cell_type": "markdown",
   "metadata": {},
   "source": [
    "Define Object Oriented Programming Language?\n",
    "\n",
    "Ans: Object-oriented programming is a programming paradigm based on the concept of \"objects\",\n",
    "    which can contain data, in the form of fields, and code, in the form of procedures.\n",
    "    A feature of objects is an object's procedures that can access and often modify the data \n",
    "    fields of the object with which they are associated."
   ]
  },
  {
   "cell_type": "markdown",
   "metadata": {},
   "source": [
    "# Question 2"
   ]
  },
  {
   "cell_type": "markdown",
   "metadata": {},
   "source": [
    "List down the Benefits of OOP\n",
    "\n",
    "Ans: .Modularity for easier troubleshooting. Something has gone wrong, and you have no idea where to look.\n",
    "     .Reuse of code through inheritance.\n",
    "     .Flexibility through polymorphism.\n",
    "     .Effective problem solving."
   ]
  },
  {
   "cell_type": "markdown",
   "metadata": {},
   "source": [
    "# Question 3"
   ]
  },
  {
   "cell_type": "markdown",
   "metadata": {},
   "source": [
    "Differentiate between function and method?\n",
    "\n",
    "Ans: A function is a piece of code that is called by name. It can be passed data to operate on (i.e. the parameters)\n",
    "and can optionally return data (the return value). All data that is passed to a function is explicitly passed. \n",
    "A method is a piece of code that is called by a name that is associated with an object."
   ]
  },
  {
   "cell_type": "markdown",
   "metadata": {},
   "source": [
    "# Question 4"
   ]
  },
  {
   "cell_type": "markdown",
   "metadata": {},
   "source": [
    "Define the following terms:\n",
    "Ans: Class — Classes (OOP) In object-oriented programming, a class is a blueprint for creating objects \n",
    "    (a particular data structure), providing initial values for state (member variables or attributes), \n",
    "    and implementations of behavior (member functions or methods). The user-defined objects are created using the class             keyword.\n",
    "    \n",
    "    Object — In object-oriented programming (OOP), objects are the things you think about first in designing a program and \n",
    "    they are also the units of code that are eventually derived from the process.\n",
    "    Each object is an instance of a particular class or subclass with the class's own methods or procedures and data variables\n",
    "    \n",
    "    Attribute — In Object-oriented programming(OOP), classes and objects have attributes. Attributes are data stored inside a       class or instance and represent the state or quality of the class or instance. ... One can think of attributes as noun or       adjective, while methods are the verb of the class.\n",
    "    \n",
    "    Behavior — A class's behavior determines how an instance of that class operates; for example, how it will \"react\" if asked      to do something by another class or object or if its internal state changes. Behavior is the only way objects can do           anything to themselves or have anything done to them.     "
   ]
  }
 ],
 "metadata": {
  "kernelspec": {
   "display_name": "Python 3",
   "language": "python",
   "name": "python3"
  },
  "language_info": {
   "codemirror_mode": {
    "name": "ipython",
    "version": 3
   },
   "file_extension": ".py",
   "mimetype": "text/x-python",
   "name": "python",
   "nbconvert_exporter": "python",
   "pygments_lexer": "ipython3",
   "version": "3.7.4"
  }
 },
 "nbformat": 4,
 "nbformat_minor": 2
}
